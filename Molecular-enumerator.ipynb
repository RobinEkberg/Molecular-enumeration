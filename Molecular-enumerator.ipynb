{
 "cells": [
  {
   "cell_type": "code",
   "execution_count": 8,
   "metadata": {},
   "outputs": [],
   "source": [
    "from rdkit import Chem\n",
    "from rdkit.Chem.Draw import IPythonConsole\n",
    "from rdkit.Chem import Draw\n",
    "from rdkit.Chem import Descriptors as de\n",
    "from rdkit.Chem import AllChem\n",
    "from rdkit.Chem.Draw import rdDepictor\n",
    "from rdkit.Chem import rdMolEnumerator\n",
    "from rdkit.Chem import Lipinski as lip\n",
    "from rdkit.Chem import Crippen as cr\n",
    "from rdkit.Chem import rdmolfiles as rdfiles\n",
    "import pandas as pd\n",
    "import matplotlib.pyplot as plt\n",
    "from vina import Vina\n",
    "import py3Dmol\n",
    "from meeko import MoleculePreparation\n",
    "import os"
   ]
  },
  {
   "cell_type": "code",
   "execution_count": 10,
   "metadata": {},
   "outputs": [],
   "source": [
    "conformer_path = 'output_conf/'"
   ]
  },
  {
   "cell_type": "markdown",
   "metadata": {},
   "source": [
    "# Import large number of molecules\n",
    "    \n",
    "Using \n",
    "    \n",
    "    rdfolfiles.SmilesMolSupplier() \n",
    "    \n",
    "it is possible to import a large number of molecules in a .smi file from eg ChemDraw or Maestro for further evaluation. If molecules are imported and are not to be modified, jump to generation of 3D coordinates"
   ]
  },
  {
   "cell_type": "code",
   "execution_count": null,
   "metadata": {},
   "outputs": [],
   "source": [
    "#Insert the same of the .smi file located in the root directory\n",
    "RE7_enumerated = rdfiles.SmilesMolSupplier('Test_export.smi')\n",
    "\n",
    "#View the imported library\n",
    "img_import = Draw.MolsToGridImage(RE7_enumerated, molsPerRow = 4, subImgSize = (300,300), legends=[x.GetProp(\"_Name\") for x in RE7_enumerated])\n",
    "img_import"
   ]
  },
  {
   "cell_type": "markdown",
   "metadata": {},
   "source": [
    "# Molecular enumeration \n"
   ]
  },
  {
   "cell_type": "markdown",
   "metadata": {},
   "source": [
    "## Use a regi-enumerated molecule as input in the chain enumeration"
   ]
  },
  {
   "cell_type": "code",
   "execution_count": null,
   "metadata": {},
   "outputs": [],
   "source": [
    "#Instead of writing the whole molecule into the Notebook, just import the file\n",
    "test_1 = Chem.MolFromMolFile('/home/robin/Documents/Learning programming/RDkit/Test-molecule.mol')\n",
    "test_1"
   ]
  },
  {
   "cell_type": "code",
   "execution_count": null,
   "metadata": {},
   "outputs": [],
   "source": [
    "test_molecule_enumerated_2 = rdMolEnumerator.Enumerate(test_1)\n",
    "test_molecule_enumerated_2"
   ]
  },
  {
   "cell_type": "code",
   "execution_count": null,
   "metadata": {},
   "outputs": [],
   "source": [
    "#This fuction can be skipped if enumeration is to be done on the imported regio-enumerated molecules\n",
    "from rdkit.Chem import rdFMCS\n",
    "def align_bundle_coords(bndl):\n",
    "    ps = rdFMCS.MCSParameters()\n",
    "    for m in bndl:\n",
    "        Chem.SanitizeMol(m)\n",
    "    mcs = rdFMCS.FindMCS(bndl,completeRingsOnly=True)\n",
    "    q = Chem.MolFromSmarts(mcs.smartsString)\n",
    "    rdDepictor.Compute2DCoords(q)\n",
    "    for m in bndl:\n",
    "        rdDepictor.GenerateDepictionMatching2DStructure(m,q)"
   ]
  },
  {
   "cell_type": "code",
   "execution_count": null,
   "metadata": {},
   "outputs": [],
   "source": [
    "#Not nesseccery to call the function if the input molecules are to be chain enumerated. \n",
    "#Call the function if only regio-enumeration should be viewd\n",
    "align_bundle_coords(test_molecule_enumerated_2)\n",
    "Draw.MolsToGridImage(test_molecule_enumerated_2)\n",
    "\n",
    "output = []\n",
    "for mol in test_molecule_enumerated_2:\n",
    "    Chem.MolToSmiles(mol)\n",
    "    output.append(mol)\n",
    "output"
   ]
  },
  {
   "cell_type": "markdown",
   "metadata": {},
   "source": [
    "# Import or generate core and/or reactants\n",
    "\n",
    "Here, the molecules of interest can be generated individualy as SMILES or imported as a SMILES file. "
   ]
  },
  {
   "cell_type": "code",
   "execution_count": 2,
   "metadata": {},
   "outputs": [],
   "source": [
    "Library_alc = rdfiles.SmilesMolSupplier('Alcohols.smi') #Read input file with all reactants\n",
    "Library_amine = rdfiles.SmilesMolSupplier('Amine.smi')\n",
    "Library_alkynes = rdfiles.SmilesMolSupplier('alkynes.smi')"
   ]
  },
  {
   "cell_type": "markdown",
   "metadata": {},
   "source": [
    "# Import reaction library \n",
    "\n",
    "The provided reaction library is a Pandas DataFrame. It is accessed as \n",
    "\n",
    "    reaction_library\n",
    "    \n",
    "This cell only imports the library."
   ]
  },
  {
   "cell_type": "code",
   "execution_count": 3,
   "metadata": {},
   "outputs": [
    {
     "data": {
      "text/html": [
       "<div>\n",
       "<style scoped>\n",
       "    .dataframe tbody tr th:only-of-type {\n",
       "        vertical-align: middle;\n",
       "    }\n",
       "\n",
       "    .dataframe tbody tr th {\n",
       "        vertical-align: top;\n",
       "    }\n",
       "\n",
       "    .dataframe thead th {\n",
       "        text-align: right;\n",
       "    }\n",
       "</style>\n",
       "<table border=\"1\" class=\"dataframe\">\n",
       "  <thead>\n",
       "    <tr style=\"text-align: right;\">\n",
       "      <th></th>\n",
       "      <th>ReactionSMARTS</th>\n",
       "    </tr>\n",
       "    <tr>\n",
       "      <th>ReactionName</th>\n",
       "      <th></th>\n",
       "    </tr>\n",
       "  </thead>\n",
       "  <tbody>\n",
       "    <tr>\n",
       "      <th>Primary alc ox</th>\n",
       "      <td>[CH2:1]-O &gt;&gt; [C:1]=O</td>\n",
       "    </tr>\n",
       "    <tr>\n",
       "      <th>Amide coupling</th>\n",
       "      <td>[C:1](=[O:2])O.[N:3] &gt;&gt; [C:1](=[O:2])[N:3]</td>\n",
       "    </tr>\n",
       "    <tr>\n",
       "      <th>Diels-Alder</th>\n",
       "      <td>'[C:1]=[C:2]-[C:3]=[C:4].[C:5]=[C:6] &gt;&gt; [C:5]-...</td>\n",
       "    </tr>\n",
       "    <tr>\n",
       "      <th>4Click</th>\n",
       "      <td>[N:1]=[N+1:2]=[N-1:3].[CH:4]#[C:5]&gt;&gt;[N:1]-1-[C...</td>\n",
       "    </tr>\n",
       "    <tr>\n",
       "      <th>Esterification</th>\n",
       "      <td>[C:1](=[O:2])O.[O:3] &gt;&gt; [C:1](=[O:2])[O:3]</td>\n",
       "    </tr>\n",
       "  </tbody>\n",
       "</table>\n",
       "</div>"
      ],
      "text/plain": [
       "                                                   ReactionSMARTS\n",
       "ReactionName                                                     \n",
       "Primary alc ox                               [CH2:1]-O >> [C:1]=O\n",
       "Amide coupling         [C:1](=[O:2])O.[N:3] >> [C:1](=[O:2])[N:3]\n",
       "Diels-Alder     '[C:1]=[C:2]-[C:3]=[C:4].[C:5]=[C:6] >> [C:5]-...\n",
       "4Click          [N:1]=[N+1:2]=[N-1:3].[CH:4]#[C:5]>>[N:1]-1-[C...\n",
       "Esterification         [C:1](=[O:2])O.[O:3] >> [C:1](=[O:2])[O:3]"
      ]
     },
     "execution_count": 3,
     "metadata": {},
     "output_type": "execute_result"
    }
   ],
   "source": [
    "reaction_library = pd.read_csv('Reaction_library_2.csv', index_col='ReactionName')\n",
    "reaction_library"
   ]
  },
  {
   "cell_type": "markdown",
   "metadata": {},
   "source": [
    "# Single molecule reactions/modification\n",
    "\n",
    "Here, the input only undergoes an intramolecular modification i.e no additional reactant is added."
   ]
  },
  {
   "cell_type": "code",
   "execution_count": 74,
   "metadata": {},
   "outputs": [],
   "source": [
    "def unimolecular_rxn(SM, reaction_SMIRKS):\n",
    "    '''Input the reactant and the reaction SMIRKS and react each reactant according to the defined SMARTS reaction in the function'''\n",
    "\n",
    "    #reaction3 = '[CH2:1]-O >> [C:1]=O'\n",
    "    rxn2 = AllChem.ReactionFromSmarts (reaction_SMIRKS)\n",
    "    product = rxn2.RunReactants([SM,])\n",
    "    \n",
    "    resulting_smile_list = []\n",
    "    try:\n",
    "        for i in range(len(product)):\n",
    "            resulting_smile = Chem.MolToSmiles(product[i][0])\n",
    "            resulting_smile_list.append(resulting_smile)\n",
    "    except:\n",
    "        pass\n",
    "    return resulting_smile_list\n",
    "    "
   ]
  },
  {
   "cell_type": "code",
   "execution_count": 75,
   "metadata": {},
   "outputs": [
    {
     "data": {
      "image/png": "[encoded data removed]",
      "text/plain": [
       "<IPython.core.display.Image object>"
      ]
     },
     "execution_count": 75,
     "metadata": {},
     "output_type": "execute_result"
    }
   ],
   "source": [
    "reaction = reaction_library.ReactionSMARTS['Primary alc ox'] #Define the reaction type\n",
    "reaction\n",
    "\n",
    "products = []\n",
    "for i in Library_alc: #Pass the name of the input library\n",
    "    prod = unimolecular_rxn(i, reaction)\n",
    "    # print(prod)\n",
    "    for mol in prod:\n",
    "        product = Chem.MolFromSmiles(mol)\n",
    "        products.append(product)\n",
    "        # print(product)\n",
    "\n",
    "\n",
    "Draw.MolsToGridImage(products)\n"
   ]
  },
  {
   "cell_type": "code",
   "execution_count": null,
   "metadata": {},
   "outputs": [],
   "source": []
  },
  {
   "cell_type": "markdown",
   "metadata": {},
   "source": [
    "# React two compound \n",
    "\n",
    "Here, two compounds are allowed to react but where one is defined as the core and the other reactant is itterated over an input list of smiles."
   ]
  },
  {
   "cell_type": "code",
   "execution_count": 5,
   "metadata": {},
   "outputs": [],
   "source": [
    "def bimolecular_rxn(mol1, mol2, reaction):\n",
    "    '''The function takes two input arguments where one is defined as a molecular core to be enumarated'''\n",
    "    rxn3 = AllChem.ReactionFromSmarts (reaction)\n",
    "    products = rxn3.RunReactants ([mol1, mol2])\n",
    "    resulting_smile_list = []\n",
    "    try:\n",
    "        for i in range(len(products)):\n",
    "            resulting_smile = Chem.MolToSmiles(products[i][0])\n",
    "            resulting_smile_list.append(resulting_smile)\n",
    "    except:\n",
    "        pass\n",
    "    return resulting_smile_list"
   ]
  },
  {
   "cell_type": "markdown",
   "metadata": {},
   "source": [
    "# Run reaction\n"
   ]
  },
  {
   "cell_type": "code",
   "execution_count": null,
   "metadata": {},
   "outputs": [],
   "source": [
    "reaction_type = reaction_library.ReactionSMARTS[\"4Click\"] #Define the reaction type from the reaction library\n",
    "product_click = [] #List of enumerated molecules\n",
    "Core = Chem.MolFromSmiles('O[C@@H]1[C@@H](O)[C@H](OCC2=CC=CC=C2)[C@H](O[C@H]1N=[N+]=[N-])C(O)=O') #Define the molecular core\n",
    "\n",
    "for i in Library_alkynes: #Read the .smi-file of reagents to be used for enumeration\n",
    "    resulting_smiles = bimolecular_rxn(Core, i, reaction_type)\n",
    "    \n",
    "    for i in resulting_smiles:\n",
    "        prod1 = Chem.MolFromSmiles(i)\n",
    "        product_click.append(prod1)\n",
    "\n",
    "Draw.MolsToGridImage(product_click, maxMols=999)"
   ]
  },
  {
   "cell_type": "markdown",
   "metadata": {},
   "source": [
    "# Lipinski rules\n",
    "\n",
    "The Lipinski rules of five, https://en.wikipedia.org/wiki/Lipinski%27s_rule_of_five, are here used on the generated data set to sort out potential drug candidates."
   ]
  },
  {
   "cell_type": "markdown",
   "metadata": {},
   "source": [
    " ### Here, the module is used to calculate chemical features\n",
    "\n",
    "    de.ExactMolWt() Calculates the exact molar mass of the molecule\n",
    "    lip.NumHAcceptors() Calculates the hydrogen bond acceptors\n",
    "    lip.NumHDonors() Calculates the number of hydrogen bond donors\n",
    "    cr.MolLogP() Caluclates the logP value\n",
    "    "
   ]
  },
  {
   "cell_type": "markdown",
   "metadata": {},
   "source": [
    "passed_molecules = []\n",
    "testlist = []\n",
    "\n",
    "for i in product_click: #Read enumerated data set\n",
    "    '''Set the target molecular weight of the dataset'''\n",
    "    if de.ExactMolWt(i) < 1500: #Set the Mw cut off value\n",
    "        #passed_molecules.append(i)\n",
    "        '''Set the numer of hydrogen bond acceptors'''\n",
    "        if 0 < lip.NumHAcceptors(i) <= 18: #Set the value of hydrogen bond acceptors cut off values\n",
    "            '''Set the number of hydrogen bond donors'''\n",
    "            if 0 <= lip.NumHDonors(i) <= 50: #Set the value of hydrogen bond acceptor cut off values\n",
    "                '''Calculate logP by setting the values'''\n",
    "                if -1<= cr.MolLogP(i) <= 10:\n",
    "                    passed_molecules.append(i)\n"
   ]
  },
  {
   "cell_type": "code",
   "execution_count": 93,
   "metadata": {},
   "outputs": [],
   "source": [
    "def lipinski_ro5(mol):\n",
    "    if de.ExactMolWt(mol) < 1500: #Set the Mw cut off value\n",
    "        #passed_molecules.append(i)\n",
    "        '''Set the numer of hydrogen bond acceptors'''\n",
    "        if 0 < lip.NumHAcceptors(mol) <= 18: #Set the value of hydrogen bond acceptors cut off values\n",
    "            '''Set the number of hydrogen bond donors'''\n",
    "            if 0 <= lip.NumHDonors(mol) <= 50: #Set the value of hydrogen bond acceptor cut off values\n",
    "                '''Calculate logP by setting the values'''\n",
    "                if -1<= cr.MolLogP(mol) <= 10:\n",
    "                    return mol\n"
   ]
  },
  {
   "cell_type": "code",
   "execution_count": 94,
   "metadata": {},
   "outputs": [],
   "source": [
    "passed_molecules = []\n",
    "\n",
    "for i in product_click:\n",
    "    lipinski_ro5(i)\n",
    "    passed_molecules.append(i)"
   ]
  },
  {
   "cell_type": "code",
   "execution_count": 95,
   "metadata": {},
   "outputs": [],
   "source": [
    "def molecular_features(mol_Lipinski):\n",
    "    logP = cr.MolLogP(mol_Lipinski)\n",
    "    molecular_weight = de.ExactMolWt(mol_Lipinski)\n",
    "    hydrogen_bond_acc = lip.NumHAcceptors(mol_Lipinski)\n",
    "    hydrogen_bond_don = lip.NumHDonors(mol_Lipinski)\n",
    "    TPSA = Chem.Descriptors.TPSA(mol_Lipinski)\n",
    "    return logP, molecular_weight, hydrogen_bond_acc, hydrogen_bond_don, TPSA"
   ]
  },
  {
   "cell_type": "code",
   "execution_count": 96,
   "metadata": {},
   "outputs": [],
   "source": [
    "output_featurs = []\n",
    "\n",
    "for i in passed_molecules:\n",
    "    calc_molecular_features = molecular_features(i)\n",
    "    output_featurs.append(calc_molecular_features)\n",
    "\n"
   ]
  },
  {
   "cell_type": "code",
   "execution_count": 98,
   "metadata": {},
   "outputs": [
    {
     "data": {
      "text/plain": [
       "79"
      ]
     },
     "execution_count": 98,
     "metadata": {},
     "output_type": "execute_result"
    }
   ],
   "source": [
    "len(passed_molecules)"
   ]
  },
  {
   "cell_type": "code",
   "execution_count": null,
   "metadata": {},
   "outputs": [],
   "source": [
    "Draw.MolsToGridImage(passed_molecules, legends = [f\"Molecular weight: {feature[1]} \\n logP: {feature[0]} \\n TPSA: {feature[4]}\" for feature in output_featurs], maxMols = 999) "
   ]
  },
  {
   "cell_type": "markdown",
   "metadata": {},
   "source": [
    "# Generate 3D coordinates \n",
    "\n",
    "The dataset generated above must be converetd into usable 3D coordinates if it is going to be docked into an enzyme using eg. AutoDock Vina. The 3D coordinates are saved as .sdf-files if another docking program is prefered."
   ]
  },
  {
   "cell_type": "code",
   "execution_count": 115,
   "metadata": {},
   "outputs": [],
   "source": [
    "conformer = []\n",
    "for mol in product_click:\n",
    "    mol = Chem.AddHs(mol)\n",
    "    a = AllChem.EmbedMolecule(mol)\n",
    "    if a == -1:\n",
    "        continue\n",
    "    AllChem.MMFFOptimizeMolecule(mol, mmffVariant = 'MMFF94', confId = 0)\n",
    "    conformer.append(mol)\n",
    "    \n",
    "if os.path.exists(conformer_path) == True:\n",
    "    pass\n",
    "if os.path.exists(conformer_path) == False:\n",
    "    os.makedirs(conformer_path)\n",
    "\n",
    "for conf, k in enumerate(conformer, 1):\n",
    "    a = Chem.SDWriter('output_conf/File{0}.sdf'.format(conf))\n",
    "    a.write(k)"
   ]
  },
  {
   "cell_type": "markdown",
   "metadata": {},
   "source": [
    "# Visulize the 3D conformation \n",
    "\n",
    "Using py3Dmol.view(), it is possible to view the conformer of each molecule that is generated. "
   ]
  },
  {
   "cell_type": "code",
   "execution_count": 113,
   "metadata": {},
   "outputs": [
    {
     "data": {
      "application/3dmoljs_load.v0": "<div id=\"3dmolviewer_16589080992703054\"  style=\"position: relative; width: 640px; height: 480px\">\n        <p id=\"3dmolwarning_16589080992703054\" style=\"background-color:#ffcccc;color:black\">You appear to be running in JupyterLab (or JavaScript failed to load for some other reason).  You need to install the 3dmol extension: <br>\n        <tt>jupyter labextension install jupyterlab_3dmol</tt></p>\n        </div>\n<script>\n\nvar loadScriptAsync = function(uri){\n  return new Promise((resolve, reject) => {\n    var tag = document.createElement('script');\n    tag.src = uri;\n    tag.async = true;\n    tag.onload = () => {\n      resolve();\n    };\n  var firstScriptTag = document.getElementsByTagName('script')[0];\n  firstScriptTag.parentNode.insertBefore(tag, firstScriptTag);\n});\n};\n\nif(typeof $3Dmolpromise === 'undefined') {\n$3Dmolpromise = null;\n  $3Dmolpromise = loadScriptAsync('https://3dmol.org/build/3Dmol.js');\n}\n\nvar viewer_16589080992703054 = null;\nvar warn = document.getElementById(\"3dmolwarning_16589080992703054\");\nif(warn) {\n    warn.parentNode.removeChild(warn);\n}\n$3Dmolpromise.then(function() {\nviewer_16589080992703054 = $3Dmol.createViewer($(\"#3dmolviewer_16589080992703054\"),{backgroundColor:\"white\"});\nviewer_16589080992703054.zoomTo();\n\tviewer_16589080992703054.addModel(\"\\n     RDKit          3D\\n\\n 59 61  0  0  0  0  0  0  0  0999 V2000\\n    8.0865    3.7221   -1.4088 N   0  0  0  0  0  0  0  0  0  0  0  0\\n    7.1497    2.7286   -1.4626 C   0  0  0  0  0  0  0  0  0  0  0  0\\n    6.5779    2.4826   -2.5112 O   0  0  0  0  0  0  0  0  0  0  0  0\\n    7.0138    2.0938   -0.2612 N   0  0  0  0  0  0  0  0  0  0  0  0\\n    6.1563    1.0305   -0.1183 C   0  0  0  0  0  0  0  0  0  0  0  0\\n    4.9969    0.9639   -0.5033 O   0  0  0  0  0  0  0  0  0  0  0  0\\n    6.7539   -0.0648    0.6869 C   0  0  0  0  0  0  0  0  0  0  0  0\\n    6.1624   -0.5725    1.7777 C   0  0  0  0  0  0  0  0  0  0  0  0\\n    4.9455    0.0128    2.3694 C   0  0  0  0  0  0  0  0  0  0  0  0\\n    4.7693    1.2064    2.5435 O   0  0  0  0  0  0  0  0  0  0  0  0\\n    4.1389   -1.0062    2.7238 O   0  0  0  0  0  0  0  0  0  0  0  0\\n    2.8457   -0.6450    3.2290 C   0  0  0  0  0  0  0  0  0  0  0  0\\n    1.7670   -1.1874    2.3646 C   0  0  0  0  0  0  0  0  0  0  0  0\\n    0.7551   -0.5326    1.7000 C   0  0  0  0  0  0  0  0  0  0  0  0\\n    0.0822   -1.5276    1.0488 N   0  0  0  0  0  0  0  0  0  0  0  0\\n   -1.0709   -1.3808    0.1573 C   0  0  2  0  0  0  0  0  0  0  0  0\\n   -1.8501   -2.5857    0.1998 O   0  0  0  0  0  0  0  0  0  0  0  0\\n   -3.1220   -2.4540   -0.4382 C   0  0  2  0  0  0  0  0  0  0  0  0\\n   -3.6294   -3.8139   -0.8962 C   0  0  0  0  0  0  0  0  0  0  0  0\\n   -4.8009   -4.1572   -0.9444 O   0  0  0  0  0  0  0  0  0  0  0  0\\n   -2.6522   -4.6378   -1.3314 O   0  0  0  0  0  0  0  0  0  0  0  0\\n   -3.1185   -1.5111   -1.6575 C   0  0  1  0  0  0  0  0  0  0  0  0\\n   -3.4634   -0.1825   -1.2311 O   0  0  0  0  0  0  0  0  0  0  0  0\\n   -4.8744    0.0495   -1.1915 C   0  0  0  0  0  0  0  0  0  0  0  0\\n   -5.1639    1.2694   -0.3557 C   0  0  0  0  0  0  0  0  0  0  0  0\\n   -6.3018    1.3074    0.4634 C   0  0  0  0  0  0  0  0  0  0  0  0\\n   -6.5963    2.4450    1.2187 C   0  0  0  0  0  0  0  0  0  0  0  0\\n   -5.7636    3.5601    1.1556 C   0  0  0  0  0  0  0  0  0  0  0  0\\n   -4.6369    3.5396    0.3358 C   0  0  0  0  0  0  0  0  0  0  0  0\\n   -4.3407    2.4034   -0.4186 C   0  0  0  0  0  0  0  0  0  0  0  0\\n   -1.7164   -1.4539   -2.2942 C   0  0  2  0  0  0  0  0  0  0  0  0\\n   -1.4239   -2.6885   -2.9613 O   0  0  0  0  0  0  0  0  0  0  0  0\\n   -0.6028   -1.1098   -1.2811 C   0  0  1  0  0  0  0  0  0  0  0  0\\n   -0.2138    0.2662   -1.4208 O   0  0  0  0  0  0  0  0  0  0  0  0\\n    0.6475   -2.7273    1.2890 N   0  0  0  0  0  0  0  0  0  0  0  0\\n    1.6714   -2.5321    2.1082 N   0  0  0  0  0  0  0  0  0  0  0  0\\n    8.1185    4.2359   -2.2827 H   0  0  0  0  0  0  0  0  0  0  0  0\\n    8.0132    4.3334   -0.6041 H   0  0  0  0  0  0  0  0  0  0  0  0\\n    7.8802    2.0627    0.2517 H   0  0  0  0  0  0  0  0  0  0  0  0\\n    7.6627   -0.5044    0.2902 H   0  0  0  0  0  0  0  0  0  0  0  0\\n    6.5675   -1.4387    2.2836 H   0  0  0  0  0  0  0  0  0  0  0  0\\n    2.7248    0.4374    3.3502 H   0  0  0  0  0  0  0  0  0  0  0  0\\n    2.7563   -1.0881    4.2264 H   0  0  0  0  0  0  0  0  0  0  0  0\\n    0.4851    0.5104    1.6116 H   0  0  0  0  0  0  0  0  0  0  0  0\\n   -1.6533   -0.5502    0.5768 H   0  0  0  0  0  0  0  0  0  0  0  0\\n   -3.8148   -2.1071    0.3367 H   0  0  0  0  0  0  0  0  0  0  0  0\\n   -3.1144   -5.4721   -1.5637 H   0  0  0  0  0  0  0  0  0  0  0  0\\n   -3.8384   -1.8397   -2.4160 H   0  0  0  0  0  0  0  0  0  0  0  0\\n   -5.2436    0.2075   -2.2122 H   0  0  0  0  0  0  0  0  0  0  0  0\\n   -5.3865   -0.8200   -0.7634 H   0  0  0  0  0  0  0  0  0  0  0  0\\n   -6.9700    0.4495    0.5217 H   0  0  0  0  0  0  0  0  0  0  0  0\\n   -7.4771    2.4630    1.8557 H   0  0  0  0  0  0  0  0  0  0  0  0\\n   -5.9931    4.4455    1.7433 H   0  0  0  0  0  0  0  0  0  0  0  0\\n   -3.9858    4.4099    0.2826 H   0  0  0  0  0  0  0  0  0  0  0  0\\n   -3.4565    2.4020   -1.0560 H   0  0  0  0  0  0  0  0  0  0  0  0\\n   -1.7274   -0.6854   -3.0773 H   0  0  0  0  0  0  0  0  0  0  0  0\\n   -1.3213   -3.3996   -2.2940 H   0  0  0  0  0  0  0  0  0  0  0  0\\n    0.2815   -1.7152   -1.5058 H   0  0  0  0  0  0  0  0  0  0  0  0\\n    0.3141    0.3362   -2.2392 H   0  0  0  0  0  0  0  0  0  0  0  0\\n  1  2  1  0\\n  2  3  2  0\\n  2  4  1  0\\n  4  5  1  0\\n  5  6  2  0\\n  5  7  1  0\\n  7  8  2  0\\n  8  9  1  0\\n  9 10  2  0\\n  9 11  1  0\\n 11 12  1  0\\n 12 13  1  0\\n 13 14  2  0\\n 14 15  1  0\\n 15 16  1  0\\n 16 17  1  0\\n 17 18  1  0\\n 18 19  1  0\\n 19 20  2  0\\n 19 21  1  0\\n 18 22  1  0\\n 22 23  1  0\\n 23 24  1  0\\n 24 25  1  0\\n 25 26  2  0\\n 26 27  1  0\\n 27 28  2  0\\n 28 29  1  0\\n 29 30  2  0\\n 22 31  1  0\\n 31 32  1  0\\n 31 33  1  0\\n 33 34  1  0\\n 15 35  1  0\\n 35 36  2  0\\n 36 13  1  0\\n 33 16  1  0\\n 30 25  1  0\\n  1 37  1  0\\n  1 38  1  0\\n  4 39  1  0\\n  7 40  1  0\\n  8 41  1  0\\n 12 42  1  0\\n 12 43  1  0\\n 14 44  1  0\\n 16 45  1  1\\n 18 46  1  1\\n 21 47  1  0\\n 22 48  1  6\\n 24 49  1  0\\n 24 50  1  0\\n 26 51  1  0\\n 27 52  1  0\\n 28 53  1  0\\n 29 54  1  0\\n 30 55  1  0\\n 31 56  1  6\\n 32 57  1  0\\n 33 58  1  6\\n 34 59  1  0\\nM  END\\n\");\n\tviewer_16589080992703054.setStyle({\"stick\": {}});\nviewer_16589080992703054.render();\n});\n</script>",
      "text/html": [
       "<div id=\"3dmolviewer_16589080992703054\"  style=\"position: relative; width: 640px; height: 480px\">\n",
       "        <p id=\"3dmolwarning_16589080992703054\" style=\"background-color:#ffcccc;color:black\">You appear to be running in JupyterLab (or JavaScript failed to load for some other reason).  You need to install the 3dmol extension: <br>\n",
       "        <tt>jupyter labextension install jupyterlab_3dmol</tt></p>\n",
       "        </div>\n",
       "<script>\n",
       "\n",
       "var loadScriptAsync = function(uri){\n",
       "  return new Promise((resolve, reject) => {\n",
       "    var tag = document.createElement('script');\n",
       "    tag.src = uri;\n",
       "    tag.async = true;\n",
       "    tag.onload = () => {\n",
       "      resolve();\n",
       "    };\n",
       "  var firstScriptTag = document.getElementsByTagName('script')[0];\n",
       "  firstScriptTag.parentNode.insertBefore(tag, firstScriptTag);\n",
       "});\n",
       "};\n",
       "\n",
       "if(typeof $3Dmolpromise === 'undefined') {\n",
       "$3Dmolpromise = null;\n",
       "  $3Dmolpromise = loadScriptAsync('https://3dmol.org/build/3Dmol.js');\n",
       "}\n",
       "\n",
       "var viewer_16589080992703054 = null;\n",
       "var warn = document.getElementById(\"3dmolwarning_16589080992703054\");\n",
       "if(warn) {\n",
       "    warn.parentNode.removeChild(warn);\n",
       "}\n",
       "$3Dmolpromise.then(function() {\n",
       "viewer_16589080992703054 = $3Dmol.createViewer($(\"#3dmolviewer_16589080992703054\"),{backgroundColor:\"white\"});\n",
       "viewer_16589080992703054.zoomTo();\n",
       "\tviewer_16589080992703054.addModel(\"\\n     RDKit          3D\\n\\n 59 61  0  0  0  0  0  0  0  0999 V2000\\n    8.0865    3.7221   -1.4088 N   0  0  0  0  0  0  0  0  0  0  0  0\\n    7.1497    2.7286   -1.4626 C   0  0  0  0  0  0  0  0  0  0  0  0\\n    6.5779    2.4826   -2.5112 O   0  0  0  0  0  0  0  0  0  0  0  0\\n    7.0138    2.0938   -0.2612 N   0  0  0  0  0  0  0  0  0  0  0  0\\n    6.1563    1.0305   -0.1183 C   0  0  0  0  0  0  0  0  0  0  0  0\\n    4.9969    0.9639   -0.5033 O   0  0  0  0  0  0  0  0  0  0  0  0\\n    6.7539   -0.0648    0.6869 C   0  0  0  0  0  0  0  0  0  0  0  0\\n    6.1624   -0.5725    1.7777 C   0  0  0  0  0  0  0  0  0  0  0  0\\n    4.9455    0.0128    2.3694 C   0  0  0  0  0  0  0  0  0  0  0  0\\n    4.7693    1.2064    2.5435 O   0  0  0  0  0  0  0  0  0  0  0  0\\n    4.1389   -1.0062    2.7238 O   0  0  0  0  0  0  0  0  0  0  0  0\\n    2.8457   -0.6450    3.2290 C   0  0  0  0  0  0  0  0  0  0  0  0\\n    1.7670   -1.1874    2.3646 C   0  0  0  0  0  0  0  0  0  0  0  0\\n    0.7551   -0.5326    1.7000 C   0  0  0  0  0  0  0  0  0  0  0  0\\n    0.0822   -1.5276    1.0488 N   0  0  0  0  0  0  0  0  0  0  0  0\\n   -1.0709   -1.3808    0.1573 C   0  0  2  0  0  0  0  0  0  0  0  0\\n   -1.8501   -2.5857    0.1998 O   0  0  0  0  0  0  0  0  0  0  0  0\\n   -3.1220   -2.4540   -0.4382 C   0  0  2  0  0  0  0  0  0  0  0  0\\n   -3.6294   -3.8139   -0.8962 C   0  0  0  0  0  0  0  0  0  0  0  0\\n   -4.8009   -4.1572   -0.9444 O   0  0  0  0  0  0  0  0  0  0  0  0\\n   -2.6522   -4.6378   -1.3314 O   0  0  0  0  0  0  0  0  0  0  0  0\\n   -3.1185   -1.5111   -1.6575 C   0  0  1  0  0  0  0  0  0  0  0  0\\n   -3.4634   -0.1825   -1.2311 O   0  0  0  0  0  0  0  0  0  0  0  0\\n   -4.8744    0.0495   -1.1915 C   0  0  0  0  0  0  0  0  0  0  0  0\\n   -5.1639    1.2694   -0.3557 C   0  0  0  0  0  0  0  0  0  0  0  0\\n   -6.3018    1.3074    0.4634 C   0  0  0  0  0  0  0  0  0  0  0  0\\n   -6.5963    2.4450    1.2187 C   0  0  0  0  0  0  0  0  0  0  0  0\\n   -5.7636    3.5601    1.1556 C   0  0  0  0  0  0  0  0  0  0  0  0\\n   -4.6369    3.5396    0.3358 C   0  0  0  0  0  0  0  0  0  0  0  0\\n   -4.3407    2.4034   -0.4186 C   0  0  0  0  0  0  0  0  0  0  0  0\\n   -1.7164   -1.4539   -2.2942 C   0  0  2  0  0  0  0  0  0  0  0  0\\n   -1.4239   -2.6885   -2.9613 O   0  0  0  0  0  0  0  0  0  0  0  0\\n   -0.6028   -1.1098   -1.2811 C   0  0  1  0  0  0  0  0  0  0  0  0\\n   -0.2138    0.2662   -1.4208 O   0  0  0  0  0  0  0  0  0  0  0  0\\n    0.6475   -2.7273    1.2890 N   0  0  0  0  0  0  0  0  0  0  0  0\\n    1.6714   -2.5321    2.1082 N   0  0  0  0  0  0  0  0  0  0  0  0\\n    8.1185    4.2359   -2.2827 H   0  0  0  0  0  0  0  0  0  0  0  0\\n    8.0132    4.3334   -0.6041 H   0  0  0  0  0  0  0  0  0  0  0  0\\n    7.8802    2.0627    0.2517 H   0  0  0  0  0  0  0  0  0  0  0  0\\n    7.6627   -0.5044    0.2902 H   0  0  0  0  0  0  0  0  0  0  0  0\\n    6.5675   -1.4387    2.2836 H   0  0  0  0  0  0  0  0  0  0  0  0\\n    2.7248    0.4374    3.3502 H   0  0  0  0  0  0  0  0  0  0  0  0\\n    2.7563   -1.0881    4.2264 H   0  0  0  0  0  0  0  0  0  0  0  0\\n    0.4851    0.5104    1.6116 H   0  0  0  0  0  0  0  0  0  0  0  0\\n   -1.6533   -0.5502    0.5768 H   0  0  0  0  0  0  0  0  0  0  0  0\\n   -3.8148   -2.1071    0.3367 H   0  0  0  0  0  0  0  0  0  0  0  0\\n   -3.1144   -5.4721   -1.5637 H   0  0  0  0  0  0  0  0  0  0  0  0\\n   -3.8384   -1.8397   -2.4160 H   0  0  0  0  0  0  0  0  0  0  0  0\\n   -5.2436    0.2075   -2.2122 H   0  0  0  0  0  0  0  0  0  0  0  0\\n   -5.3865   -0.8200   -0.7634 H   0  0  0  0  0  0  0  0  0  0  0  0\\n   -6.9700    0.4495    0.5217 H   0  0  0  0  0  0  0  0  0  0  0  0\\n   -7.4771    2.4630    1.8557 H   0  0  0  0  0  0  0  0  0  0  0  0\\n   -5.9931    4.4455    1.7433 H   0  0  0  0  0  0  0  0  0  0  0  0\\n   -3.9858    4.4099    0.2826 H   0  0  0  0  0  0  0  0  0  0  0  0\\n   -3.4565    2.4020   -1.0560 H   0  0  0  0  0  0  0  0  0  0  0  0\\n   -1.7274   -0.6854   -3.0773 H   0  0  0  0  0  0  0  0  0  0  0  0\\n   -1.3213   -3.3996   -2.2940 H   0  0  0  0  0  0  0  0  0  0  0  0\\n    0.2815   -1.7152   -1.5058 H   0  0  0  0  0  0  0  0  0  0  0  0\\n    0.3141    0.3362   -2.2392 H   0  0  0  0  0  0  0  0  0  0  0  0\\n  1  2  1  0\\n  2  3  2  0\\n  2  4  1  0\\n  4  5  1  0\\n  5  6  2  0\\n  5  7  1  0\\n  7  8  2  0\\n  8  9  1  0\\n  9 10  2  0\\n  9 11  1  0\\n 11 12  1  0\\n 12 13  1  0\\n 13 14  2  0\\n 14 15  1  0\\n 15 16  1  0\\n 16 17  1  0\\n 17 18  1  0\\n 18 19  1  0\\n 19 20  2  0\\n 19 21  1  0\\n 18 22  1  0\\n 22 23  1  0\\n 23 24  1  0\\n 24 25  1  0\\n 25 26  2  0\\n 26 27  1  0\\n 27 28  2  0\\n 28 29  1  0\\n 29 30  2  0\\n 22 31  1  0\\n 31 32  1  0\\n 31 33  1  0\\n 33 34  1  0\\n 15 35  1  0\\n 35 36  2  0\\n 36 13  1  0\\n 33 16  1  0\\n 30 25  1  0\\n  1 37  1  0\\n  1 38  1  0\\n  4 39  1  0\\n  7 40  1  0\\n  8 41  1  0\\n 12 42  1  0\\n 12 43  1  0\\n 14 44  1  0\\n 16 45  1  1\\n 18 46  1  1\\n 21 47  1  0\\n 22 48  1  6\\n 24 49  1  0\\n 24 50  1  0\\n 26 51  1  0\\n 27 52  1  0\\n 28 53  1  0\\n 29 54  1  0\\n 30 55  1  0\\n 31 56  1  6\\n 32 57  1  0\\n 33 58  1  6\\n 34 59  1  0\\nM  END\\n\");\n",
       "\tviewer_16589080992703054.setStyle({\"stick\": {}});\n",
       "viewer_16589080992703054.render();\n",
       "});\n",
       "</script>"
      ]
     },
     "metadata": {},
     "output_type": "display_data"
    },
    {
     "data": {
      "text/plain": [
       "<py3Dmol.view at 0x7fe715cecf70>"
      ]
     },
     "execution_count": 113,
     "metadata": {},
     "output_type": "execute_result"
    }
   ],
   "source": [
    "v = py3Dmol.view()\n",
    "v.addModel(Chem.MolToMolBlock(conformer[55]))\n",
    "v.setStyle({'stick':{}})"
   ]
  },
  {
   "cell_type": "markdown",
   "metadata": {},
   "source": [
    "# Generate ligands for docking\n",
    "\n",
    "The calculated conformer is here converted to a .pdbqt file which is needed for AutoDock. This is done using Meeko\n",
    "\n",
    "    MolecularPreparation()\n",
    "        keep_nonpolar_hydrogens=False, Set to true to allow all hydrogens present in moelcule\n",
    "        hydrate=False,\n",
    "        flexible_amides=False,\n",
    "        rigid_macrocycles=False,\n",
    "        min_ring_size=7,\n",
    "        max_ring_size=33,\n",
    "        keep_chorded_rings=False,\n",
    "        keep_equivalent_rings=False,\n",
    "        rigidify_bonds_smarts=[],\n",
    "        rigidify_bonds_indices=[],\n",
    "        double_bond_penalty=50,\n",
    "        atom_type_smarts={},\n",
    "        add_index_map=False,\n",
    "        stop_at_defaults=False,\n",
    "        remove_smiles=False"
   ]
  },
  {
   "cell_type": "code",
   "execution_count": null,
   "metadata": {},
   "outputs": [],
   "source": [
    "preparator = MoleculePreparation(keep_nonpolar_hydrogens=True)\n",
    "\n",
    "\n",
    "for mol, a in enumerate(conformer, 1):\n",
    "    #Add to check input structure\n",
    "    preparator.prepare(a)\n",
    "    preparator.show_setup()\n",
    "    preparator.write_pdbqt_file('output_conf/File{0}.pdbqt'.format(mol))"
   ]
  },
  {
   "cell_type": "code",
   "execution_count": null,
   "metadata": {},
   "outputs": [],
   "source": []
  },
  {
   "cell_type": "code",
   "execution_count": null,
   "metadata": {},
   "outputs": [],
   "source": []
  },
  {
   "cell_type": "markdown",
   "metadata": {},
   "source": [
    "# Molecular docking - AutoDock Vina\n",
    "\n",
    "## Preparation of receptor"
   ]
  },
  {
   "cell_type": "markdown",
   "metadata": {},
   "source": [
    "The receptor is prepped by calling the script **prepare_receptor** and having a clean .pdb file. Use a text editor to remove water, ligands etc to only keep the native protein.\n",
    "\n",
    "    Description of command...\n",
    "         -r   receptor_filename \n",
    "        supported file types include pdb,mol2,pdbq,pdbqs,pdbqt, possibly pqr,cif\n",
    "    Optional parameters:\n",
    "        [-v]  verbose output (default is minimal output)\n",
    "        [-o pdbqt_filename]  (default is 'molecule_name.pdbqt')\n",
    "        [-A]  type(s) of repairs to make: \n",
    "             'bonds_hydrogens': build bonds and add hydrogens \n",
    "             'bonds': build a single bond from each atom with no bonds to its closest neighbor\n",
    "             'hydrogens': add hydrogens\n",
    "             'checkhydrogens': add hydrogens only if there are none already\n",
    "             'None': do not make any repairs \n",
    "             (default is 'None')\n",
    "        [-C]  preserve all input charges ie do not add new charges \n",
    "             (default is addition of gasteiger charges)\n",
    "        [-p]  preserve input charges on specific atom types, eg -p Zn -p Fe\n",
    "        [-U]  cleanup type:\n",
    "             'nphs': merge charges and remove non-polar hydrogens\n",
    "             'lps': merge charges and remove lone pairs\n",
    "             'waters': remove water residues\n",
    "             'nonstdres': remove chains composed entirely of residues of\n",
    "                      types other than the standard 20 amino acids\n",
    "             'deleteAltB': remove XX@B atoms and rename XX@A atoms->XX\n",
    "             (default is 'nphs_lps_waters_nonstdres') \n",
    "        [-e]  delete every nonstd residue from any chain\n",
    "              'True': any residue whose name is not in this list:\n",
    "                      ['CYS','ILE','SER','VAL','GLN','LYS','ASN', \n",
    "                      'PRO','THR','PHE','ALA','HIS','GLY','ASP', \n",
    "                      'LEU', 'ARG', 'TRP', 'GLU', 'TYR','MET', \n",
    "                      'HID', 'HSP', 'HIE', 'HIP', 'CYX', 'CSS']\n",
    "              will be deleted from any chain. \n",
    "              NB: there are no  nucleic acid residue names at all \n",
    "              in the list and no metals. \n",
    "             (default is False which means not to do this)\n",
    "        [-M]  interactive \n",
    "             (default is 'automatic': outputfile is written with no further user input)\n",
    "        [-d dictionary_filename] file to contain receptor summary information\n",
    "        [-w]   assign each receptor atom a unique name: newname is original name plus its index(1-based)\n",
    "\n"
   ]
  },
  {
   "cell_type": "code",
   "execution_count": null,
   "metadata": {},
   "outputs": [],
   "source": [
    "#Prepare recepror file using prepare_receptor.py \n",
    "#Enter the input parameters for the receptor input .pdb-file\n",
    "\n",
    "!/home/robin/ADFRsuite-1.0/bin/prepare_receptor -r 'receptor_input.pdb' -o 'receptor_output.pdbqt'\n",
    "\n",
    "#If a flexible docking is to be preformed, the receptor must be prepared for that by running \n"
   ]
  },
  {
   "cell_type": "markdown",
   "metadata": {},
   "source": [
    "## Docking the ligands "
   ]
  },
  {
   "cell_type": "code",
   "execution_count": null,
   "metadata": {},
   "outputs": [],
   "source": [
    "v = Vina(sf_name='vina') #Set forcefield, here 'vina' is selected\n",
    "\n",
    "v.set_receptor('1iep_receptor.pdbqt')\n",
    "\n",
    "v.set_ligand_from_file('1iep_ligand.pdbqt')"
   ]
  },
  {
   "cell_type": "code",
   "execution_count": null,
   "metadata": {},
   "outputs": [],
   "source": [
    "v.compute_vina_maps(center=[15.190, 53.903, 16.917], box_size=[20, 20, 20])\n",
    "\n",
    "# Score the current pose\n",
    "energy = v.score()\n",
    "print('Score before minimization: %.3f (kcal/mol)' % energy[0])\n",
    "\n",
    "# Minimized locally the current pose\n",
    "energy_minimized = v.optimize()\n",
    "print('Score after minimization : %.3f (kcal/mol)' % energy_minimized[0])\n",
    "v.write_pose('1iep_ligand_minimized.pdbqt', overwrite=True)\n",
    "\n",
    "# Dock the ligand\n",
    "v.dock(exhaustiveness=32, n_poses=20)\n",
    "v.write_poses('1iep_ligand_vina_out.pdbqt', n_poses=5, overwrite=True)"
   ]
  },
  {
   "cell_type": "markdown",
   "metadata": {},
   "source": [
    "# Plot data \n",
    "\n",
    "Here, the molecular features are plotted as a scattered plot"
   ]
  },
  {
   "cell_type": "code",
   "execution_count": null,
   "metadata": {},
   "outputs": [],
   "source": [
    "fig, ax = plt.subplots(figsize = (8,8))\n",
    "ax.plot(RE7_enumerated_logP, RE7_enumerated_TPSA, 'rs', label = 'Non-filtered ')\n",
    "ax.plot(logP_list, TPSA_filtered_lib, 'bo', label = 'Filtered')\n",
    "ax.set_xlabel('logP', size = 16)\n",
    "ax.set_ylabel('TPSA', size = 16)\n",
    "ax.set_title ('logP vs. TPSA for imported molecules', size = 18)\n",
    "ax.legend()\n",
    "\n"
   ]
  },
  {
   "cell_type": "code",
   "execution_count": null,
   "metadata": {},
   "outputs": [],
   "source": []
  }
 ],
 "metadata": {
  "kernelspec": {
   "display_name": "my-rdkit-env",
   "language": "python",
   "name": "my-rdkit-env"
  },
  "language_info": {
   "codemirror_mode": {
    "name": "ipython",
    "version": 3
   },
   "file_extension": ".py",
   "mimetype": "text/x-python",
   "name": "python",
   "nbconvert_exporter": "python",
   "pygments_lexer": "ipython3",
   "version": "3.9.12"
  }
 },
 "nbformat": 4,
 "nbformat_minor": 4
}
